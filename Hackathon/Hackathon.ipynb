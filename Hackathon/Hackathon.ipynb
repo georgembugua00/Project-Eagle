{
 "cells": [
  {
   "cell_type": "markdown",
   "metadata": {},
   "source": [
    "## Project Eagle"
   ]
  },
  {
   "cell_type": "markdown",
   "metadata": {},
   "source": [
    "### Introduction\n",
    "\n",
    "In today's world, it is necessary for companies to stay up-to-date with technological advancements if they hope to remain relevant. This project aims to leverage data science and machine learning to aid in policymaking."
   ]
  },
  {
   "cell_type": "markdown",
   "metadata": {},
   "source": [
    "### Problem Statement \n",
    "\n",
    "1. Application of data analytics on National and EAC budget-making processes is one of the most values services offered to Members. \n",
    "During these two processes; KAM reviews these tax regimes; VAT Act, Excise Duty Act, Income Tax Act, Procedure Act, Miscallaneous Fees and Levies Act, and EAC Common External Tariff(CET).\n",
    "CUrrently, it is largely a manual process that lacks hindsight impact assessments and lack of predictive impact assessments. By using the latest data analytics, predictive analytics and AI, KAM would be able to automate this process.\n",
    "\n",
    "2. Integration of data analytics into KAM research products and other areas of advocacy.\n",
    "    - Quarterly Manufacturing Barometer.\n",
    "    - Annual Manufacturing Priority Agenda (MPA).\n",
    "    - Analysis of export opportunities under AfCFTA, EU-EPA, AGOA/STIP, KE-UK, COMESA, EAC, TFTA etc.\n",
    "    - Other industry research working papers, white papers, and policy briefs.\n",
    "    - Emerging issues, climate change, green manufacturing, carbon credits.\n",
    "\n",
    "    ### Selection criteria\n",
    "    - Commencement of the process will largely be determined by availability of data. Taking this into account, the following sequence is proposed:\n",
    "    - Contribution of the manufacturing sector to exports.\n",
    "    - Importation of intermediate industrial inputs\n",
    "    - Contribution of the manufacturing to taxes \n",
    "    - Automating the KAM budget process.\n",
    "    \n",
    "    ### Evaluation Criteria\n",
    "\n",
    "    - Success of the project will be determined by highlight and post-impact assessment and predictive capabilities and data visualization for policy utility.\n",
    "\n",
    "    \n",
    "\n",
    "        \n"
   ]
  },
  {
   "cell_type": "code",
   "execution_count": null,
   "metadata": {},
   "outputs": [],
   "source": [
    "# Importing the necessary libraries\n",
    "import pandas as pd\n",
    "import numpy as np \n",
    "import matplotlib.pyplot as plt\n",
    "import seaborn as sns\n",
    "from sklearn.model_selection import train_test_split\n",
    "from sklearn.ensemble import RandomForestRegressor\n",
    "from sklearn.metrics import mean_squared_error\n",
    "import warnings"
   ]
  }
 ],
 "metadata": {
  "kernelspec": {
   "display_name": "base",
   "language": "python",
   "name": "python3"
  },
  "language_info": {
   "name": "python",
   "version": "3.11.7"
  }
 },
 "nbformat": 4,
 "nbformat_minor": 2
}
